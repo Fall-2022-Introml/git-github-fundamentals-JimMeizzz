{
 "cells": [
  {
   "cell_type": "code",
   "execution_count": 1,
   "id": "79bf032c",
   "metadata": {},
   "outputs": [
    {
     "name": "stdout",
     "output_type": "stream",
     "text": [
      "Hello, World!\n"
     ]
    }
   ],
   "source": [
    "print (\"Hello, World!\")"
   ]
  },
  {
   "cell_type": "code",
   "execution_count": 5,
   "id": "c5b9f2ec",
   "metadata": {},
   "outputs": [
    {
     "name": "stdout",
     "output_type": "stream",
     "text": [
      "10\n"
     ]
    }
   ],
   "source": [
    "i = 5\n",
    "j = i+5\n",
    "print (j)\n"
   ]
  },
  {
   "cell_type": "markdown",
   "id": "d4e1e915",
   "metadata": {},
   "source": [
    "# This part shows markdown style:"
   ]
  },
  {
   "cell_type": "markdown",
   "id": "ce8c3162",
   "metadata": {},
   "source": [
    "*My name is* **Jim Mei**"
   ]
  },
  {
   "cell_type": "markdown",
   "id": "137962af",
   "metadata": {},
   "source": [
    "~~**6Chang is my _best_ friend**~~"
   ]
  }
 ],
 "metadata": {
  "kernelspec": {
   "display_name": "Python 3 (ipykernel)",
   "language": "python",
   "name": "python3"
  },
  "language_info": {
   "codemirror_mode": {
    "name": "ipython",
    "version": 3
   },
   "file_extension": ".py",
   "mimetype": "text/x-python",
   "name": "python",
   "nbconvert_exporter": "python",
   "pygments_lexer": "ipython3",
   "version": "3.9.12"
  }
 },
 "nbformat": 4,
 "nbformat_minor": 5
}
